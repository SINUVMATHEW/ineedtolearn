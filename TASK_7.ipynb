{
  "nbformat": 4,
  "nbformat_minor": 0,
  "metadata": {
    "colab": {
      "name": "TASK  7.ipynb",
      "provenance": [],
      "include_colab_link": true
    },
    "kernelspec": {
      "name": "python3",
      "display_name": "Python 3"
    },
    "language_info": {
      "name": "python"
    }
  },
  "cells": [
    {
      "cell_type": "markdown",
      "metadata": {
        "id": "view-in-github",
        "colab_type": "text"
      },
      "source": [
        "<a href=\"https://colab.research.google.com/github/SINUVMATHEW/ineedtolearn/blob/learn_py/TASK_7.ipynb\" target=\"_parent\"><img src=\"https://colab.research.google.com/assets/colab-badge.svg\" alt=\"Open In Colab\"/></a>"
      ]
    },
    {
      "cell_type": "markdown",
      "metadata": {
        "id": "b0V3vwzcydKy"
      },
      "source": [
        "1. Write a program to check whether a  string is palindrome or not using functions. \n",
        "\n",
        "   ( A function is to be created to check whether the string is palindrome and it should give the output true or false to the main program)"
      ]
    },
    {
      "cell_type": "code",
      "metadata": {
        "id": "M2Mi7EOdyxiu",
        "outputId": "7f8c610e-e55f-4ad7-845e-e98fb3b69205",
        "colab": {
          "base_uri": "https://localhost:8080/"
        }
      },
      "source": [
        "#please enter the code below this line.\n",
        "def palindrome(text) -> str:\n",
        "  return (text==text[::-1])\n",
        "\n",
        "print(palindrome('malayalam'))"
      ],
      "execution_count": 1,
      "outputs": [
        {
          "output_type": "stream",
          "name": "stdout",
          "text": [
            "True\n"
          ]
        }
      ]
    },
    {
      "cell_type": "markdown",
      "metadata": {
        "id": "vSiShTyOzEz-"
      },
      "source": [
        "2.  Write a menu driven program to find largest element in L, smallest element, avg of all values, sum of all values in L. All these operation should be performed in different functions and the result should be returned.\n",
        "\n",
        "\n",
        "      L=[23,24,11,90,1,41,9,99,28,56,72]"
      ]
    },
    {
      "cell_type": "code",
      "metadata": {
        "id": "fRtMIw_CzsmO",
        "outputId": "5e452685-2596-4ac4-aa37-262f79b33c90",
        "colab": {
          "base_uri": "https://localhost:8080/"
        }
      },
      "source": [
        "#please enter the code below this line.\n",
        "L=[23,24,11,90,1,41,9,99,28,56,72]\n",
        "\n",
        "def largestElement(L) -> int:\n",
        "  large = L[0]\n",
        "  for i in range(0, len(L)):\n",
        "    if large <= L[i]:\n",
        "      large =L[i]\n",
        "  return large\n",
        "print(largestElement(L))\n",
        "\n",
        "\n",
        "def smallestElement(L) -> int:\n",
        "  val = L[0]\n",
        "  for i in range(0, len(L)):\n",
        "    if val >= L[i]:\n",
        "      val = L[i]\n",
        "  return val\n",
        "\n",
        "print(smallestElement(L))\n",
        "\n",
        "def average(L) -> float: \n",
        "  sum = 0\n",
        "  for i in L:\n",
        "    sum += int(i)\n",
        "  return (sum/len(L))\n",
        "print(average(L))\n",
        "\n",
        "def summation(l):\n",
        "  sum= 0\n",
        "  for i in l:\n",
        "    sum += int(i)\n",
        "  return sum"
      ],
      "execution_count": 13,
      "outputs": [
        {
          "output_type": "stream",
          "name": "stdout",
          "text": [
            "99\n",
            "1\n",
            "41.27272727272727\n"
          ]
        }
      ]
    }
  ]
}