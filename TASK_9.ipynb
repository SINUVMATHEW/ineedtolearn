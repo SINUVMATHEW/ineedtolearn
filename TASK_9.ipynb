{
  "nbformat": 4,
  "nbformat_minor": 0,
  "metadata": {
    "colab": {
      "name": "TASK 9.ipynb",
      "provenance": [],
      "include_colab_link": true
    },
    "kernelspec": {
      "name": "python3",
      "display_name": "Python 3"
    },
    "language_info": {
      "name": "python"
    }
  },
  "cells": [
    {
      "cell_type": "markdown",
      "metadata": {
        "id": "view-in-github",
        "colab_type": "text"
      },
      "source": [
        "<a href=\"https://colab.research.google.com/github/SINUVMATHEW/ineedtolearn/blob/learn_py/TASK_9.ipynb\" target=\"_parent\"><img src=\"https://colab.research.google.com/assets/colab-badge.svg\" alt=\"Open In Colab\"/></a>"
      ]
    },
    {
      "cell_type": "markdown",
      "metadata": {
        "id": "CBOQ3rFElEb0"
      },
      "source": [
        "1. Create an 4x4 array containing the values ranging from 0 - 15 (use arange function). Then ,\n",
        "  \n",
        "  a) split it equally along horizontal.\n",
        "\n",
        "  b) split it as 4 parts vertically.\n",
        "\n"
      ]
    },
    {
      "cell_type": "code",
      "metadata": {
        "id": "pKy4fjS_m3XD",
        "outputId": "b3f87dda-3ee5-4045-ab5a-dbabaa9a95ed",
        "colab": {
          "base_uri": "https://localhost:8080/"
        }
      },
      "source": [
        "#please provide your answer below this line\n",
        "import numpy as np\n",
        "\n",
        "a = np.arange(0,16).reshape(4,4)\n",
        "print(a)\n",
        "\n",
        "h = np.hsplit(a, 2)\n",
        "print(h)\n",
        "\n",
        "v = np.vsplit(a,4)\n",
        "print(v)"
      ],
      "execution_count": 1,
      "outputs": [
        {
          "output_type": "stream",
          "name": "stdout",
          "text": [
            "[[ 0  1  2  3]\n",
            " [ 4  5  6  7]\n",
            " [ 8  9 10 11]\n",
            " [12 13 14 15]]\n",
            "[array([[ 0,  1],\n",
            "       [ 4,  5],\n",
            "       [ 8,  9],\n",
            "       [12, 13]]), array([[ 2,  3],\n",
            "       [ 6,  7],\n",
            "       [10, 11],\n",
            "       [14, 15]])]\n",
            "[array([[0, 1, 2, 3]]), array([[4, 5, 6, 7]]), array([[ 8,  9, 10, 11]]), array([[12, 13, 14, 15]])]\n"
          ]
        }
      ]
    },
    {
      "cell_type": "markdown",
      "metadata": {
        "id": "ORtqWRAeoMvn"
      },
      "source": [
        "2. Create a 3x3 matrix using random module and then,\n",
        "\n",
        "  a) Find the ceil of the matrix.\n",
        "  \n",
        "  b) Find the floor of the matrix."
      ]
    },
    {
      "cell_type": "code",
      "metadata": {
        "id": "kt_CO_v9qpU-",
        "outputId": "ab7fbd01-1184-45a7-e499-814149fd6204",
        "colab": {
          "base_uri": "https://localhost:8080/"
        }
      },
      "source": [
        "#please provide your answer below this line\n",
        "\n",
        "import random\n",
        "import numpy as np\n",
        "a = []\n",
        "b = [0,0,0]\n",
        "for i in range(3):\n",
        "  for j in range(3):\n",
        "    b[j] = random.randint(0,9)\n",
        "  a.append(b)\n",
        "\n",
        "print(a)\n",
        "\n",
        "c = int(input(\"Enter the digit to find ceil: \"))\n",
        "for i in range(3):\n",
        "  r_arr = np.ceil(c)\n",
        "print(\"Output ceil:\",r_arr)\n",
        "\n",
        "f = int(input(\"Enter the digit to find floor: \"))\n",
        "for i in range(3):\n",
        "  r_arr = np.ceil(f) \n",
        "print(\"Output floor:\",r_arr)"
      ],
      "execution_count": 2,
      "outputs": [
        {
          "output_type": "stream",
          "name": "stdout",
          "text": [
            "[[8, 2, 1], [8, 2, 1], [8, 2, 1]]\n",
            "Enter the digit to find ceil: 2\n",
            "Output ceil: 2.0\n",
            "Enter the digit to find floor: 8\n",
            "Output floor: 8.0\n"
          ]
        }
      ]
    },
    {
      "cell_type": "markdown",
      "metadata": {
        "id": "oln9t19WqzBb"
      },
      "source": [
        "3. Create a random 1x4 array and print the random array and its shape.\n",
        "    \n",
        "      (use the shape function for finding the shape & use the same random we created here for both the below operations.)\n",
        "\n",
        "  a) Squeeze the random array and print the squeezed array and its shape.\n",
        "  b) Expand the random array by one axis and print the expanded array and its shape."
      ]
    },
    {
      "cell_type": "code",
      "metadata": {
        "id": "cbGGwRo3vpVX",
        "outputId": "5b50c025-550f-4223-b9e6-3243a1a07d9f",
        "colab": {
          "base_uri": "https://localhost:8080/"
        }
      },
      "source": [
        "#please provide your answer below this line.\n",
        "from numpy import random\n",
        "\n",
        "x = random.randint(100, size=(1, 4))\n",
        "print(x) \n",
        "print(x.shape) \n",
        "\n",
        "s = np.squeeze(x).shape\n",
        "print(a)\n",
        "\n",
        "y =  np.expand_dims(x, axis=1)\n",
        "print(y)\n",
        "print(y.shape)"
      ],
      "execution_count": 3,
      "outputs": [
        {
          "output_type": "stream",
          "name": "stdout",
          "text": [
            "[[ 0 52  6 44]]\n",
            "(1, 4)\n",
            "[[8, 2, 1], [8, 2, 1], [8, 2, 1]]\n",
            "[[[ 0 52  6 44]]]\n",
            "(1, 1, 4)\n"
          ]
        }
      ]
    }
  ]
}