{
  "nbformat": 4,
  "nbformat_minor": 0,
  "metadata": {
    "colab": {
      "name": "TASK 17.ipynb",
      "provenance": [],
      "include_colab_link": true
    },
    "kernelspec": {
      "name": "python3",
      "display_name": "Python 3"
    },
    "language_info": {
      "name": "python"
    }
  },
  "cells": [
    {
      "cell_type": "markdown",
      "metadata": {
        "id": "view-in-github",
        "colab_type": "text"
      },
      "source": [
        "<a href=\"https://colab.research.google.com/github/SINUVMATHEW/ineedtolearn/blob/learn_py/TASK_17.ipynb\" target=\"_parent\"><img src=\"https://colab.research.google.com/assets/colab-badge.svg\" alt=\"Open In Colab\"/></a>"
      ]
    },
    {
      "cell_type": "markdown",
      "metadata": {
        "id": "0SLapvpoaeYY"
      },
      "source": [
        "1. Create a DataFrame by passing a random numpy array,with a datetie index and labelled columns.and display its,\n",
        "     - Head\n",
        "     - Tail\n",
        "     - Index \n",
        "     - Columns\n",
        "     - Values\n",
        "     - statistics\n"
      ]
    },
    {
      "cell_type": "code",
      "metadata": {
        "id": "zJDkjyVxa5yU",
        "outputId": "8d2c8052-9a68-438c-9cf8-ef75df8a9e72",
        "colab": {
          "base_uri": "https://localhost:8080/"
        }
      },
      "source": [
        "#please type your answer below this line.\n",
        "import numpy as np\n",
        "import pandas as pd\n",
        "\n",
        "date = pd.date_range('20210101', periods=6)\n",
        "\n",
        "df = pd.DataFrame(\n",
        "    np.random.randn(6,4),\n",
        "    index=date,\n",
        "    columns=list('ABCD')\n",
        ")\n",
        "print(f\"head : {df.head()}\")\n",
        "\n",
        "print(f\"tail : {df.tail()}\")\n",
        "\n",
        "print(f\"index: {[i for i in df.head().index]}\")\n",
        "\n",
        "print(f\"Column: {[i for i in df.columns]}\")"
      ],
      "execution_count": 1,
      "outputs": [
        {
          "output_type": "stream",
          "name": "stdout",
          "text": [
            "head :                    A         B         C         D\n",
            "2021-01-01 -1.101110  1.182876  0.972124 -0.435351\n",
            "2021-01-02 -1.578970  1.209911  0.575170 -1.772776\n",
            "2021-01-03 -1.586346  1.354562  0.669185 -1.386975\n",
            "2021-01-04 -0.643117 -1.844060  2.667304 -0.830647\n",
            "2021-01-05  1.273231 -2.476761 -0.054858  0.198775\n",
            "tail :                    A         B         C         D\n",
            "2021-01-02 -1.578970  1.209911  0.575170 -1.772776\n",
            "2021-01-03 -1.586346  1.354562  0.669185 -1.386975\n",
            "2021-01-04 -0.643117 -1.844060  2.667304 -0.830647\n",
            "2021-01-05  1.273231 -2.476761 -0.054858  0.198775\n",
            "2021-01-06  1.488146  0.757144  0.085162  1.117833\n",
            "index: [Timestamp('2021-01-01 00:00:00', freq='D'), Timestamp('2021-01-02 00:00:00', freq='D'), Timestamp('2021-01-03 00:00:00', freq='D'), Timestamp('2021-01-04 00:00:00', freq='D'), Timestamp('2021-01-05 00:00:00', freq='D')]\n",
            "Column: ['A', 'B', 'C', 'D']\n"
          ]
        }
      ]
    },
    {
      "cell_type": "markdown",
      "metadata": {
        "id": "xnkA2mKDdyoO"
      },
      "source": [
        "2. Use the above table and,\n",
        "      - find transpose of your data.\n",
        "      - sort the index in the descending order of the date."
      ]
    },
    {
      "cell_type": "code",
      "metadata": {
        "id": "uqcQSEOufJ5P",
        "outputId": "42124bcb-e387-41ee-88a1-c5c4a90e7d79",
        "colab": {
          "base_uri": "https://localhost:8080/"
        }
      },
      "source": [
        "#please provide your answer below this line.\n",
        "import numpy as np\n",
        "import pandas as pd\n",
        "\n",
        "date = pd.date_range('20210101', periods=6)\n",
        "\n",
        "df = pd.DataFrame(\n",
        "    np.random.randn(6,4),\n",
        "    index=date,\n",
        "    columns=list('ABCD')\n",
        ")\n",
        "print(f\"transpose: \\n{df.transpose}\")\n",
        "print(f\"descending: {df.sort_index(ascending=False)}\")"
      ],
      "execution_count": 2,
      "outputs": [
        {
          "output_type": "stream",
          "name": "stdout",
          "text": [
            "transpose: \n",
            "<bound method DataFrame.transpose of                    A         B         C         D\n",
            "2021-01-01 -0.497343 -0.377694  1.511898  0.865307\n",
            "2021-01-02  0.283786  1.158021  0.130537 -0.729274\n",
            "2021-01-03  0.653035  0.281236  1.469092  1.580649\n",
            "2021-01-04  0.878376 -0.653686 -0.804087  0.087516\n",
            "2021-01-05 -0.527730  0.470335 -1.884264  0.450398\n",
            "2021-01-06 -1.580345  0.091593  0.405311 -0.872654>\n",
            "descending:                    A         B         C         D\n",
            "2021-01-06 -1.580345  0.091593  0.405311 -0.872654\n",
            "2021-01-05 -0.527730  0.470335 -1.884264  0.450398\n",
            "2021-01-04  0.878376 -0.653686 -0.804087  0.087516\n",
            "2021-01-03  0.653035  0.281236  1.469092  1.580649\n",
            "2021-01-02  0.283786  1.158021  0.130537 -0.729274\n",
            "2021-01-01 -0.497343 -0.377694  1.511898  0.865307\n"
          ]
        }
      ]
    },
    {
      "cell_type": "markdown",
      "metadata": {
        "id": "ss7s_8iDbAcL"
      },
      "source": [
        ""
      ]
    }
  ]
}