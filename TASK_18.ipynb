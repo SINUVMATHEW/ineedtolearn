{
  "nbformat": 4,
  "nbformat_minor": 0,
  "metadata": {
    "colab": {
      "name": "TASK 18.ipynb",
      "provenance": [],
      "include_colab_link": true
    },
    "kernelspec": {
      "name": "python3",
      "display_name": "Python 3"
    },
    "language_info": {
      "name": "python"
    }
  },
  "cells": [
    {
      "cell_type": "markdown",
      "metadata": {
        "id": "view-in-github",
        "colab_type": "text"
      },
      "source": [
        "<a href=\"https://colab.research.google.com/github/SINUVMATHEW/ineedtolearn/blob/learn_py/TASK_18.ipynb\" target=\"_parent\"><img src=\"https://colab.research.google.com/assets/colab-badge.svg\" alt=\"Open In Colab\"/></a>"
      ]
    },
    {
      "cell_type": "markdown",
      "metadata": {
        "id": "_JgXT8pEAjU4"
      },
      "source": [
        "1. \n",
        "Create a DataFrame by passing a random numpy array,with a datetie index and labelled columns.and,\n",
        "    - slice its first three rows and display.\n",
        "    - slice its odd indexed rows.\n",
        "    - display the dates from 1st postion to 4 th position."
      ]
    },
    {
      "cell_type": "code",
      "metadata": {
        "id": "5zFM5VOJBKBV",
        "outputId": "b5ea1552-1d30-4705-d708-185f71ce95b0",
        "colab": {
          "base_uri": "https://localhost:8080/"
        }
      },
      "source": [
        "#please provide your answer below this line.\n",
        "\n",
        "import numpy as np\n",
        "import pandas as pd\n",
        "\n",
        "dates = pd.date_range('20200101', periods=6)\n",
        "\n",
        "df = pd.DataFrame(np.random.randn(6, 4), index=dates, columns=list('ABCD'))\n",
        "\n",
        "\n",
        "print(f\"Slicing first three rows: \\n{df.iloc[:3]}\\n\")\n",
        "\n",
        "print(f\"odd index rows: \\n{df.iloc[::2]}\\n\")\n",
        "\n",
        "print(f\"dates from 1 to 4th position: \\n{ [df.index[i] for i in range(4)] }\")"
      ],
      "execution_count": 1,
      "outputs": [
        {
          "output_type": "stream",
          "name": "stdout",
          "text": [
            "Slicing first three rows: \n",
            "                   A         B         C         D\n",
            "2020-01-01 -1.121851 -1.078005  0.666219  0.095355\n",
            "2020-01-02  0.079744  0.575817  1.592170  0.120715\n",
            "2020-01-03 -1.520746 -0.103067  2.049832 -1.460831\n",
            "\n",
            "odd index rows: \n",
            "                   A         B         C         D\n",
            "2020-01-01 -1.121851 -1.078005  0.666219  0.095355\n",
            "2020-01-03 -1.520746 -0.103067  2.049832 -1.460831\n",
            "2020-01-05  0.213584 -0.573109 -1.749726  1.289878\n",
            "\n",
            "dates from 1 to 4th position: \n",
            "[Timestamp('2020-01-01 00:00:00', freq='D'), Timestamp('2020-01-02 00:00:00', freq='D'), Timestamp('2020-01-03 00:00:00', freq='D'), Timestamp('2020-01-04 00:00:00', freq='D')]\n"
          ]
        }
      ]
    },
    {
      "cell_type": "markdown",
      "metadata": {
        "id": "QuoucvjxBPmX"
      },
      "source": [
        "2. Create a DataFrame by passing a random numpy array,with a datetie index and labelled columns.and\n",
        "  - Dislplay the index from the 1 to 3 date and the columns A and B of respective data.\n",
        "  - Display the datas at the 3rd index.\n",
        "  - Display datas from 2nd to 5th.\n",
        "  - Display the datas from the index 1,2,4 and the column 0 and 2."
      ]
    },
    {
      "cell_type": "code",
      "metadata": {
        "id": "qV_wzsp1DUKI",
        "outputId": "baff64dd-e626-4a69-e59d-32cf85621ec9",
        "colab": {
          "base_uri": "https://localhost:8080/"
        }
      },
      "source": [
        "#please provide your answer below thins line.\n",
        "import numpy as np\n",
        "import pandas as pd\n",
        "\n",
        "dates = pd.date_range('20200101', periods=6)\n",
        "\n",
        "df = pd.DataFrame(np.random.randn(6, 4), index=dates, columns=list('ABCD'))\n",
        "dd = df.filter(items=['A','B'])\n",
        "print(f\"index from 1 to 3: \\n {dd.iloc[:3]}\")\n",
        "\n",
        "print(f\"data from thrid index: {df.iloc[[3]]}\")\n",
        "\n",
        "print(f\"data from 2 to 6 index: {df.iloc[2:5]}\")\n",
        "\n",
        "d1 = df.iloc[:2]\n",
        "d2 = df.iloc[[4]]\n",
        "\n",
        "res = pd.concat([d1,d2])\n",
        "print(f\"Data from index 1,2,4 and column 0 and 2: {res.filter(items=['A','C'])}\")"
      ],
      "execution_count": 2,
      "outputs": [
        {
          "output_type": "stream",
          "name": "stdout",
          "text": [
            "index from 1 to 3: \n",
            "                    A         B\n",
            "2020-01-01 -0.883071  0.799184\n",
            "2020-01-02  0.320624 -0.526457\n",
            "2020-01-03  0.400805  0.150859\n",
            "data from thrid index:                    A        B         C         D\n",
            "2020-01-04 -0.461711  0.84463 -0.048284 -0.664306\n",
            "data from 2 to 6 index:                    A         B         C         D\n",
            "2020-01-03  0.400805  0.150859 -0.992649  0.008455\n",
            "2020-01-04 -0.461711  0.844630 -0.048284 -0.664306\n",
            "2020-01-05  0.360065  1.288884  0.622106 -1.730238\n",
            "Data from index 1,2,4 and column 0 and 2:                    A         C\n",
            "2020-01-01 -0.883071  1.538585\n",
            "2020-01-02  0.320624 -0.836525\n",
            "2020-01-05  0.360065  0.622106\n"
          ]
        }
      ]
    }
  ]
}