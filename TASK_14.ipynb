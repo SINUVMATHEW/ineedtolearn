{
  "nbformat": 4,
  "nbformat_minor": 0,
  "metadata": {
    "colab": {
      "name": "TASK 14.ipynb",
      "provenance": [],
      "include_colab_link": true
    },
    "kernelspec": {
      "name": "python3",
      "display_name": "Python 3"
    },
    "language_info": {
      "name": "python"
    }
  },
  "cells": [
    {
      "cell_type": "markdown",
      "metadata": {
        "id": "view-in-github",
        "colab_type": "text"
      },
      "source": [
        "<a href=\"https://colab.research.google.com/github/SINUVMATHEW/ineedtolearn/blob/learn_py/TASK_14.ipynb\" target=\"_parent\"><img src=\"https://colab.research.google.com/assets/colab-badge.svg\" alt=\"Open In Colab\"/></a>"
      ]
    },
    {
      "cell_type": "markdown",
      "metadata": {
        "id": "pDx7KyZoXYNb"
      },
      "source": [
        "1. Create two arrays, one containing elements [1,2], [3,4] and another containing elements [8,18] Now find the solution for this linear equation."
      ]
    },
    {
      "cell_type": "code",
      "metadata": {
        "id": "1HQu2yB2YMbj",
        "outputId": "56b994bf-9291-4879-ea2e-f55d22fb9cfa",
        "colab": {
          "base_uri": "https://localhost:8080/"
        }
      },
      "source": [
        "#please type your answer below this line.\n",
        "import numpy as np\n",
        "arr1 = np.array([[1,2], [3,4]])\n",
        "arr2 = np.array([8,18])\n",
        "print(f\"solution: {np.linalg.solve(arr1,arr2)}\")"
      ],
      "execution_count": 5,
      "outputs": [
        {
          "output_type": "stream",
          "name": "stdout",
          "text": [
            "solution: [2. 3.]\n"
          ]
        }
      ]
    },
    {
      "cell_type": "markdown",
      "metadata": {
        "id": "RyDr51p8ZxQp"
      },
      "source": [
        "2. Create an array containing elements [2, 3, 4]. Now find the sin,cos,tan values of this array elements."
      ]
    },
    {
      "cell_type": "code",
      "metadata": {
        "id": "iXZByHNOaXbk",
        "outputId": "55dda8c1-01b7-45ce-9e68-980046fbeca3",
        "colab": {
          "base_uri": "https://localhost:8080/"
        }
      },
      "source": [
        "#please type your answer below this line.\n",
        "import numpy as np\n",
        "\n",
        "arr = np.array([2,3,4])\n",
        "print(f\"sin: {np.sin(arr)}\")\n",
        "print(f\"cos: {np.cos(arr)}\")\n",
        "print(f\"tan: {np.tan(arr)}\")"
      ],
      "execution_count": 6,
      "outputs": [
        {
          "output_type": "stream",
          "name": "stdout",
          "text": [
            "sin: [ 0.90929743  0.14112001 -0.7568025 ]\n",
            "cos: [-0.41614684 -0.9899925  -0.65364362]\n",
            "tan: [-2.18503986 -0.14254654  1.15782128]\n"
          ]
        }
      ]
    },
    {
      "cell_type": "markdown",
      "metadata": {
        "id": "Itk2DMc6b60J"
      },
      "source": [
        "3. Given b=[5,6], then find,\n",
        "\n",
        "  a) 2sinb\n",
        "  b) 2cos3b\n",
        "  c) 4tan2b"
      ]
    },
    {
      "cell_type": "code",
      "metadata": {
        "id": "lgxpIaKebw5y",
        "outputId": "9fd33643-5997-4136-b5d1-d0660d029d78",
        "colab": {
          "base_uri": "https://localhost:8080/"
        }
      },
      "source": [
        "import numpy as np\n",
        "\n",
        "b = [5,6]\n",
        "print(f\"2sinb : {2*np.sin(b)}\")\n",
        "print(f\"2cos3b : {2*np.cos(np.multiply(b,3))}\")\n",
        "print(f\"4tan2b : {4*np.tan(np.multiply(b,2))}\")"
      ],
      "execution_count": 4,
      "outputs": [
        {
          "output_type": "stream",
          "name": "stdout",
          "text": [
            "2sinb : [-1.91784855 -0.558831  ]\n",
            "2cos3b : [-1.51937583  1.32063342]\n",
            "4tan2b : [ 2.59344331 -2.54343971]\n"
          ]
        }
      ]
    }
  ]
}