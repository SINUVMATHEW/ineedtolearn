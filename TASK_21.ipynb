{
  "nbformat": 4,
  "nbformat_minor": 0,
  "metadata": {
    "colab": {
      "name": "TASK 21.ipynb",
      "provenance": [],
      "include_colab_link": true
    },
    "kernelspec": {
      "name": "python3",
      "display_name": "Python 3"
    },
    "language_info": {
      "name": "python"
    }
  },
  "cells": [
    {
      "cell_type": "markdown",
      "metadata": {
        "id": "view-in-github",
        "colab_type": "text"
      },
      "source": [
        "<a href=\"https://colab.research.google.com/github/SINUVMATHEW/ineedtolearn/blob/learn_py/TASK_21.ipynb\" target=\"_parent\"><img src=\"https://colab.research.google.com/assets/colab-badge.svg\" alt=\"Open In Colab\"/></a>"
      ]
    },
    {
      "cell_type": "markdown",
      "metadata": {
        "id": "wK9sv7fHTnyo"
      },
      "source": [
        "1.  Using the dataset given below,\n",
        "  - Group the given dataset by A and find the sum of the groups.\n",
        "  - Find the 3 least elements from the column D\n",
        "  - Find the 3 largest elements from the Column D which belongs to the group\n",
        "  'bar'."
      ]
    },
    {
      "cell_type": "code",
      "metadata": {
        "id": "C_Kq4i_rVNyB",
        "colab": {
          "base_uri": "https://localhost:8080/",
          "height": 142
        },
        "outputId": "ef4b14b6-b5bf-49d9-ce1b-dc111d63c36b"
      },
      "source": [
        "import pandas as pd\n",
        "import numpy as np\n",
        "df = pd.DataFrame({'A' : ['foo', 'bar', 'foo', 'bar',\n",
        "                          'foo', 'bar', 'foo', 'foo'],\n",
        "                   'B' : ['one', 'one', 'two', 'three',\n",
        "                          'two', 'two', 'one', 'three'],\n",
        "                   'C' : np.random.randn(8),\n",
        "                   'D' : np.random.randn(8)})\n",
        "df\n",
        "#please type your code below this line.\n",
        "grouped = df.groupby('A')\n",
        "grouped.sum()\n",
        "df.nsmallest(3, ['D'])\n",
        "df.nlargest(3, ['D'])\n",
        "df.groupby(['A']).get_group(('bar'))\n"
      ],
      "execution_count": 17,
      "outputs": [
        {
          "output_type": "execute_result",
          "data": {
            "text/html": [
              "<div>\n",
              "<style scoped>\n",
              "    .dataframe tbody tr th:only-of-type {\n",
              "        vertical-align: middle;\n",
              "    }\n",
              "\n",
              "    .dataframe tbody tr th {\n",
              "        vertical-align: top;\n",
              "    }\n",
              "\n",
              "    .dataframe thead th {\n",
              "        text-align: right;\n",
              "    }\n",
              "</style>\n",
              "<table border=\"1\" class=\"dataframe\">\n",
              "  <thead>\n",
              "    <tr style=\"text-align: right;\">\n",
              "      <th></th>\n",
              "      <th>A</th>\n",
              "      <th>B</th>\n",
              "      <th>C</th>\n",
              "      <th>D</th>\n",
              "    </tr>\n",
              "  </thead>\n",
              "  <tbody>\n",
              "    <tr>\n",
              "      <th>1</th>\n",
              "      <td>bar</td>\n",
              "      <td>one</td>\n",
              "      <td>0.411907</td>\n",
              "      <td>1.595233</td>\n",
              "    </tr>\n",
              "    <tr>\n",
              "      <th>3</th>\n",
              "      <td>bar</td>\n",
              "      <td>three</td>\n",
              "      <td>-0.633897</td>\n",
              "      <td>-0.478110</td>\n",
              "    </tr>\n",
              "    <tr>\n",
              "      <th>5</th>\n",
              "      <td>bar</td>\n",
              "      <td>two</td>\n",
              "      <td>-0.009201</td>\n",
              "      <td>0.852866</td>\n",
              "    </tr>\n",
              "  </tbody>\n",
              "</table>\n",
              "</div>"
            ],
            "text/plain": [
              "     A      B         C         D\n",
              "1  bar    one  0.411907  1.595233\n",
              "3  bar  three -0.633897 -0.478110\n",
              "5  bar    two -0.009201  0.852866"
            ]
          },
          "metadata": {},
          "execution_count": 17
        }
      ]
    },
    {
      "cell_type": "markdown",
      "metadata": {
        "id": "68XLHGsrdHXb"
      },
      "source": [
        "2. Using the dataset given below,\n",
        "  - convert the dataset into a csv file.\n",
        "  - read the csv file just saved\n",
        "  - covert the dataset into a excel file.\n",
        "  - read the excel file just saved."
      ]
    },
    {
      "cell_type": "code",
      "metadata": {
        "id": "J4BOx3UZdVLV",
        "colab": {
          "base_uri": "https://localhost:8080/"
        },
        "outputId": "aa639897-5f8a-485b-dd16-2e3aaf8af86a"
      },
      "source": [
        "import pandas as pd\n",
        "import numpy as np\n",
        "df = pd.DataFrame({'A' : ['foo', 'bar', 'foo', 'bar',\n",
        "                          'foo', 'bar', 'foo', 'foo'],\n",
        "                   'B' : ['one', 'one', 'two', 'three',\n",
        "                          'two', 'two', 'one', 'three'],\n",
        "                   'C' : np.random.randn(8),\n",
        "                   'D' : np.random.randn(8)})\n",
        "#please type your code below this line.\n",
        "df.to_csv('file2.csv', header=False, index=False)\n",
        "dd = pd.read_csv('/content/file2.csv')\n",
        "print(dd)\n",
        "df.to_excel('file.xlsx')\n",
        "d2 = pd.read_excel('/content/file.xlsx')\n",
        "print(d2)"
      ],
      "execution_count": 8,
      "outputs": [
        {
          "output_type": "stream",
          "name": "stdout",
          "text": [
            "   foo    one  -0.7646065424353579  0.5546676456346211\n",
            "0  bar    one             0.468286            0.599179\n",
            "1  foo    two             0.365383            0.371068\n",
            "2  bar  three            -0.612919           -0.527035\n",
            "3  foo    two             0.428692           -0.013160\n",
            "4  bar    two            -1.697679            1.299938\n",
            "5  foo    one            -1.007458            0.859131\n",
            "6  foo  three             0.925972           -0.973991\n",
            "   Unnamed: 0    A      B         C         D\n",
            "0           0  foo    one -0.764607  0.554668\n",
            "1           1  bar    one  0.468286  0.599179\n",
            "2           2  foo    two  0.365383  0.371068\n",
            "3           3  bar  three -0.612919 -0.527035\n",
            "4           4  foo    two  0.428692 -0.013160\n",
            "5           5  bar    two -1.697679  1.299938\n",
            "6           6  foo    one -1.007458  0.859131\n",
            "7           7  foo  three  0.925972 -0.973991\n"
          ]
        }
      ]
    }
  ]
}