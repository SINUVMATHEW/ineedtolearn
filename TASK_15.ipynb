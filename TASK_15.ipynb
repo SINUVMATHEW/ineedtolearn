{
  "nbformat": 4,
  "nbformat_minor": 0,
  "metadata": {
    "colab": {
      "name": "TASK 15.ipynb",
      "provenance": [],
      "include_colab_link": true
    },
    "kernelspec": {
      "name": "python3",
      "display_name": "Python 3"
    },
    "language_info": {
      "name": "python"
    }
  },
  "cells": [
    {
      "cell_type": "markdown",
      "metadata": {
        "id": "view-in-github",
        "colab_type": "text"
      },
      "source": [
        "<a href=\"https://colab.research.google.com/github/SINUVMATHEW/ineedtolearn/blob/learn_py/TASK_15.ipynb\" target=\"_parent\"><img src=\"https://colab.research.google.com/assets/colab-badge.svg\" alt=\"Open In Colab\"/></a>"
      ]
    },
    {
      "cell_type": "markdown",
      "metadata": {
        "id": "mmfmNpvywy0n"
      },
      "source": [
        "1. For the given ndarray b below, evaluate whether elements in array, b are equal to 'red'.Assign the result to b_bool and print the resultant boolean array.\n",
        "b = np.array([\"blue\", \"blue\", \"red\", \"blue\"])"
      ]
    },
    {
      "cell_type": "code",
      "metadata": {
        "id": "KyVrfhasw7SW",
        "outputId": "662f9d8c-fa97-4efb-8d83-f23a03f3d49e",
        "colab": {
          "base_uri": "https://localhost:8080/"
        }
      },
      "source": [
        "#please type your answer below this line.\n",
        "import numpy as np\n",
        "\n",
        "b = np.array([\"blue\", \"blue\", \"red\", \"blue\"])\n",
        "arr = []\n",
        "for i in range(len(b)):\n",
        "  if b[i] == \"red\":\n",
        "    arr = np.append(arr, i)\n",
        "print(arr)"
      ],
      "execution_count": 9,
      "outputs": [
        {
          "output_type": "stream",
          "name": "stdout",
          "text": [
            "[2.]\n"
          ]
        }
      ]
    },
    {
      "cell_type": "markdown",
      "metadata": {
        "id": "1IEqtJSDzx3p"
      },
      "source": [
        "2. Create two arrays on containing elements from 0-5 and another containing elements from 6-10. Then append this array."
      ]
    },
    {
      "cell_type": "code",
      "metadata": {
        "id": "7PXETiqF0Jeo",
        "outputId": "b9bbfca7-f297-44f5-9fbe-e343e652bb38",
        "colab": {
          "base_uri": "https://localhost:8080/"
        }
      },
      "source": [
        "#please type your answer below this line.\n",
        "import numpy as np\n",
        "ara1=np.arange(0,6)\n",
        "ara2=np.arange(6,11)\n",
        "print(ara1)\n",
        "print(ara2)\n",
        "arr = np.append(ara1, ara2)\n",
        "print(f\" array: {arr} \")\n"
      ],
      "execution_count": 7,
      "outputs": [
        {
          "output_type": "stream",
          "name": "stdout",
          "text": [
            "[0 1 2 3 4 5]\n",
            "[ 6  7  8  9 10]\n",
            " array: [ 0  1  2  3  4  5  6  7  8  9 10] \n"
          ]
        }
      ]
    },
    {
      "cell_type": "markdown",
      "metadata": {
        "id": "6JqR9EeB0P6K"
      },
      "source": [
        "3. Create a 2x4 array containing values from 0-7 and another 2x4 containing values from 8-15. Now append this with,\n",
        "\n",
        "  a) axis as 0\n",
        "\n",
        "  b) axis as 1"
      ]
    },
    {
      "cell_type": "code",
      "metadata": {
        "id": "AVhGyXzr1Pd8",
        "outputId": "f69bb4df-73c7-4a68-b9ca-717bd7b32d9d",
        "colab": {
          "base_uri": "https://localhost:8080/"
        }
      },
      "source": [
        "#please type your answer below this line.\n",
        "import numpy as np\n",
        "\n",
        "arr1 = np.arange(0,8).reshape(2,4)\n",
        "arr2 = np.arange(8,16).reshape(2,4)\n",
        "\n",
        "print(f\"appended at axis 0: {np.append(arr1, arr2, axis=0)}\")\n",
        "print(f\"appended at axis 1: {np.append(arr1, arr2, axis=1)}\")"
      ],
      "execution_count": 8,
      "outputs": [
        {
          "output_type": "stream",
          "name": "stdout",
          "text": [
            "appended at axis 0: [[ 0  1  2  3]\n",
            " [ 4  5  6  7]\n",
            " [ 8  9 10 11]\n",
            " [12 13 14 15]]\n",
            "appended at axis 1: [[ 0  1  2  3  8  9 10 11]\n",
            " [ 4  5  6  7 12 13 14 15]]\n"
          ]
        }
      ]
    }
  ]
}