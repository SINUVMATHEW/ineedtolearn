{
  "nbformat": 4,
  "nbformat_minor": 0,
  "metadata": {
    "colab": {
      "name": "TASK 19.ipynb",
      "provenance": [],
      "include_colab_link": true
    },
    "kernelspec": {
      "name": "python3",
      "display_name": "Python 3"
    },
    "language_info": {
      "name": "python"
    }
  },
  "cells": [
    {
      "cell_type": "markdown",
      "metadata": {
        "id": "view-in-github",
        "colab_type": "text"
      },
      "source": [
        "<a href=\"https://colab.research.google.com/github/SINUVMATHEW/ineedtolearn/blob/learn_py/TASK_19.ipynb\" target=\"_parent\"><img src=\"https://colab.research.google.com/assets/colab-badge.svg\" alt=\"Open In Colab\"/></a>"
      ]
    },
    {
      "cell_type": "markdown",
      "metadata": {
        "id": "6J-6GvX2JUcC"
      },
      "source": [
        "1. Create a DataFrame by passing a random numpy array,with a dateted index and labelled columns and display,\n",
        "  - where values of the column A is greater than 0.\n",
        "  - where values of the columns A is greater than 0 and B greater than -1.\n",
        "  - where values of the columns A  is greater than 0 or B greater than -1.\n"
      ]
    },
    {
      "cell_type": "code",
      "metadata": {
        "id": "xX-5VikpLcHL",
        "outputId": "104fd424-270f-4fab-d59b-27ccea626a55",
        "colab": {
          "base_uri": "https://localhost:8080/"
        }
      },
      "source": [
        "#please type your code below this line.\n",
        "import numpy as np\n",
        "import pandas as pd\n",
        "\n",
        "dates = pd.date_range('20200101', periods=6)\n",
        "\n",
        "df = pd.DataFrame(np.random.randn(6, 4), index=dates, columns=list('ABCD'))\n",
        "\n",
        "print(\"Values of column A is greater than 0\")\n",
        "for i in range(len(df['A'])):\n",
        "  if df['A'][i] > 0:\n",
        "    print(df['A'][i])\n",
        "\n",
        "print(\"Values of the columns A is greater than 0 and B greater than -1.\")\n",
        "for i,j in zip(range(len(df['A'])), range(len(df['B']))):\n",
        "  if df['A'][i].all() > 0 and df['B'].all() > -1:\n",
        "    print(f\"{df['A'][i]}  {df['B'][j]}\")\n",
        "\n",
        "\n",
        "print(\"Values of the columns A is greater than 0 or B greater than -1.\")\n",
        "for i,j in zip(range(len(df['A'])), range(len(df['B']))):\n",
        "  if df['A'][i].all() > 0 or df['B'].all() > -1:\n",
        "    print(f\"{df['A'][i]}  {df['B'][j]}\")"
      ],
      "execution_count": 1,
      "outputs": [
        {
          "output_type": "stream",
          "name": "stdout",
          "text": [
            "Values of column A is greater than 0\n",
            "0.5402772407753368\n",
            "0.4275108721589242\n",
            "0.07184890797250836\n",
            "Values of the columns A is greater than 0 and B greater than -1.\n",
            "-1.3631265681397098  -1.6652955728527858\n",
            "-0.45641611574908014  -0.7482975349411829\n",
            "0.5402772407753368  -0.9308351925709849\n",
            "-2.09475114935606  0.300755360881481\n",
            "0.4275108721589242  0.6555699501682289\n",
            "0.07184890797250836  -1.1711024927145637\n",
            "Values of the columns A is greater than 0 or B greater than -1.\n",
            "-1.3631265681397098  -1.6652955728527858\n",
            "-0.45641611574908014  -0.7482975349411829\n",
            "0.5402772407753368  -0.9308351925709849\n",
            "-2.09475114935606  0.300755360881481\n",
            "0.4275108721589242  0.6555699501682289\n",
            "0.07184890797250836  -1.1711024927145637\n"
          ]
        }
      ]
    },
    {
      "cell_type": "markdown",
      "metadata": {
        "id": "1WAf9SbwLp6o"
      },
      "source": [
        "2. Create a DataFrame by passing a random numpy array,with a dateted index and labelled columns and check if ,\n",
        "  - the values of the table are greater the zero or not.\n",
        "  - the value at the postion (0,0) is equal to NaN or not."
      ]
    },
    {
      "cell_type": "code",
      "metadata": {
        "id": "rBrt8pMeM2Q5",
        "outputId": "45d03ff8-4a25-4e0e-ac06-c24037262581",
        "colab": {
          "base_uri": "https://localhost:8080/"
        }
      },
      "source": [
        "#please type your code below this line.\n",
        "import numpy as np\n",
        "import pandas as pd\n",
        "\n",
        "dates = pd.date_range('20200101', periods=6)\n",
        "\n",
        "df = pd.DataFrame(np.random.randn(6, 4), index=dates, columns=list('ABCD'))\n",
        "f = 1\n",
        "for i in df.columns:\n",
        "  for j in df[i]:\n",
        "    if df[str(i)][int(j)] == 0:\n",
        "      f =0\n",
        "if f ==1:\n",
        "  print(\"Its contains values greater than 0\")\n",
        "else:\n",
        "  print(\"It has zero values\")\n",
        "\n",
        "l = df.iloc[0]\n",
        "# print(l.iloc[0])\n",
        "if l.iloc[0] == 'NaN':\n",
        "  print(\"Its NaN\")\n",
        "else:\n",
        "  print(\"Its not\")"
      ],
      "execution_count": 2,
      "outputs": [
        {
          "output_type": "stream",
          "name": "stdout",
          "text": [
            "Its contains values greater than 0\n",
            "Its not\n"
          ]
        }
      ]
    },
    {
      "cell_type": "markdown",
      "metadata": {
        "id": "IfM9XYmiNaKB"
      },
      "source": [
        "3. Create a DataFrame by passing a random numpy array,with a dateted index and labelled columns and,\n",
        "  - reindex the index with even dates.\n",
        "  - create a column with values NaN.\n",
        "  - make the values of the first two index of the newly created column as 1"
      ]
    },
    {
      "cell_type": "code",
      "metadata": {
        "id": "F-w8kEfaORg3",
        "outputId": "d6d287ed-8cdb-4efa-ca8d-af59e30d180b",
        "colab": {
          "base_uri": "https://localhost:8080/"
        }
      },
      "source": [
        "#please type your answer below this line.\n",
        "import numpy as np\n",
        "import pandas as pd\n",
        "\n",
        "dates = pd.date_range('20200202', periods=6)\n",
        "\n",
        "df = pd.DataFrame(np.random.randn(6, 4), index=dates, columns=list('ABCD'))\n",
        "d1=df.reindex(index=dates[0:6:2])\n",
        "print(f\"reindex the index with even dates. {df}\")\n",
        "\n",
        "d2 = df.reindex(columns=list(df.columns)+ ['E'])\n",
        "print(f\"create a column with values NaN {d2}\")\n",
        "\n",
        "d3 = d2.filter(items=['E'])\n",
        "d3.iloc[0] = int(1)\n",
        "d3.iloc[1] = int(1) \n",
        "print(d3)"
      ],
      "execution_count": 5,
      "outputs": [
        {
          "output_type": "stream",
          "name": "stdout",
          "text": [
            "reindex the index with even dates.                    A         B         C         D\n",
            "2020-02-02 -1.193317  0.450766 -0.750678 -0.455125\n",
            "2020-02-03  0.065628 -1.843349 -0.616005  0.019309\n",
            "2020-02-04  1.636887 -0.505280 -1.567666  1.050964\n",
            "2020-02-05 -0.936033 -0.004863 -0.509800  0.086078\n",
            "2020-02-06  2.213165  1.050165  0.422896 -0.131295\n",
            "2020-02-07  0.074180 -0.295316  1.318427  0.456429\n",
            "create a column with values NaN                    A         B         C         D   E\n",
            "2020-02-02 -1.193317  0.450766 -0.750678 -0.455125 NaN\n",
            "2020-02-03  0.065628 -1.843349 -0.616005  0.019309 NaN\n",
            "2020-02-04  1.636887 -0.505280 -1.567666  1.050964 NaN\n",
            "2020-02-05 -0.936033 -0.004863 -0.509800  0.086078 NaN\n",
            "2020-02-06  2.213165  1.050165  0.422896 -0.131295 NaN\n",
            "2020-02-07  0.074180 -0.295316  1.318427  0.456429 NaN\n",
            "              E\n",
            "2020-02-02  1.0\n",
            "2020-02-03  1.0\n",
            "2020-02-04  NaN\n",
            "2020-02-05  NaN\n",
            "2020-02-06  NaN\n",
            "2020-02-07  NaN\n"
          ]
        }
      ]
    }
  ]
}