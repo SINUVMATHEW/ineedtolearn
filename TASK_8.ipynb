{
  "nbformat": 4,
  "nbformat_minor": 0,
  "metadata": {
    "colab": {
      "name": "TASK 8.ipynb",
      "provenance": [],
      "include_colab_link": true
    },
    "kernelspec": {
      "name": "python3",
      "display_name": "Python 3"
    },
    "language_info": {
      "name": "python"
    }
  },
  "cells": [
    {
      "cell_type": "markdown",
      "metadata": {
        "id": "view-in-github",
        "colab_type": "text"
      },
      "source": [
        "<a href=\"https://colab.research.google.com/github/SINUVMATHEW/ineedtolearn/blob/learn_py/TASK_8.ipynb\" target=\"_parent\"><img src=\"https://colab.research.google.com/assets/colab-badge.svg\" alt=\"Open In Colab\"/></a>"
      ]
    },
    {
      "cell_type": "markdown",
      "metadata": {
        "id": "slsGswYbJSo7"
      },
      "source": [
        "1. Generate a 3 x 3 matrix using random module."
      ]
    },
    {
      "cell_type": "code",
      "metadata": {
        "id": "GGRQSYyNJW9t",
        "outputId": "fe0ba5fb-fc1e-4441-a2bd-16c9ba92dc71",
        "colab": {
          "base_uri": "https://localhost:8080/"
        }
      },
      "source": [
        "#please provide your answer below this line.\n",
        "\n",
        "import random\n",
        "\n",
        "a = []\n",
        "b = [0,0,0]\n",
        "\n",
        "for i in range(0, 3):\n",
        "  for i in range(0,3):\n",
        "    b[i] = random.randint(0,20)\n",
        "  a.append(b)\n",
        "print(a)"
      ],
      "execution_count": 3,
      "outputs": [
        {
          "output_type": "stream",
          "name": "stdout",
          "text": [
            "[[7, 19, 7], [7, 19, 7], [7, 19, 7]]\n"
          ]
        }
      ]
    },
    {
      "cell_type": "markdown",
      "metadata": {
        "id": "4OB9KFX6JfYA"
      },
      "source": [
        "2. Generate two 4 x 4 matrix using numpy and \n",
        "\n",
        " a) Reshape it to 2 x 8matrix and vertically stack it.\n",
        "\n",
        " b) Reshape it to 2 x 8 matrix and horizontally stack it."
      ]
    },
    {
      "cell_type": "code",
      "metadata": {
        "id": "VoIqYeNWJ4H_",
        "outputId": "c9b15911-d416-47e5-c462-dbdff86a10df",
        "colab": {
          "base_uri": "https://localhost:8080/"
        }
      },
      "source": [
        "#please provide your answer below this line.\n",
        "import numpy as np\n",
        "\n",
        "a = np.random.rand(4,4)\n",
        "print(a)\n",
        "\n",
        "print(\"Vertical stack\")\n",
        "print(np.vstack(a))\n",
        "\n",
        "print(\"Horizontal stack\")\n",
        "print(np.hstack(a))"
      ],
      "execution_count": 10,
      "outputs": [
        {
          "output_type": "stream",
          "name": "stdout",
          "text": [
            "[[0.54307121 0.27985836 0.07927749 0.63191294]\n",
            " [0.01792412 0.24401375 0.16123824 0.4807824 ]\n",
            " [0.64728963 0.21042982 0.67613586 0.28639866]\n",
            " [0.27071199 0.57909781 0.358685   0.59162147]]\n",
            "Vertical stack\n",
            "[[0.54307121 0.27985836 0.07927749 0.63191294]\n",
            " [0.01792412 0.24401375 0.16123824 0.4807824 ]\n",
            " [0.64728963 0.21042982 0.67613586 0.28639866]\n",
            " [0.27071199 0.57909781 0.358685   0.59162147]]\n",
            "Horizontal stack\n",
            "[0.54307121 0.27985836 0.07927749 0.63191294 0.01792412 0.24401375\n",
            " 0.16123824 0.4807824  0.64728963 0.21042982 0.67613586 0.28639866\n",
            " 0.27071199 0.57909781 0.358685   0.59162147]\n"
          ]
        }
      ]
    }
  ]
}